{
 "cells": [
  {
   "cell_type": "markdown",
   "metadata": {},
   "source": [
    "# G2ConfigMgr"
   ]
  },
  {
   "cell_type": "markdown",
   "metadata": {},
   "source": [
    "The G2ConfigMgr API is used to add specific JSON configurations to the database,\n",
    "so that they may be shared across remote systems.\n",
    "Such configurations are added to the database,\n",
    "and a configuration ID is created for each of them.\n",
    "The system may then be configured with a specific configuratin ID\n",
    "that points to one of those configurations.\n",
    "That configuration ID will then be the shared global config."
   ]
  },
  {
   "cell_type": "markdown",
   "metadata": {},
   "source": [
    "## Table of contents\n",
    "\n",
    "1. [Prepare environment](#Prepare-environment)\n",
    "    1. [Java imports](#Java-imports)\n",
    "    1. [Initialize Senzing configuration](#Initialize-Senzing-configuration)\n",
    "    1. [Create G2Config instance](#Create-G2Config-instance)\n",
    "1. [G2ConfigMgr](#G2ConfigMgr)\n",
    "    1. [G2ConfigMgr Initialization](#G2ConfigMgr-Initialization)\n",
    "    1. [Managing configurations](#Managing-configurations)\n",
    "        1. [addConfig](#addConfig)\n",
    "        1. [getConfigList](#getConfigList)\n",
    "        1. [getConfig](#getConfig)\n",
    "    1. [Default configurations](#Default-configurations)\n",
    "        1. [setDefaultConfigID](#setDefaultConfigID)\n",
    "        1. [getDefaultConfigID](#getDefaultConfigID)"
   ]
  },
  {
   "cell_type": "markdown",
   "metadata": {},
   "source": [
    "## Prepare environment"
   ]
  },
  {
   "cell_type": "markdown",
   "metadata": {},
   "source": [
    "### Java imports"
   ]
  },
  {
   "cell_type": "code",
   "execution_count": null,
   "metadata": {},
   "outputs": [],
   "source": [
    "import com.senzing.g2.engine.G2ConfigMgr;\n",
    "import com.senzing.g2.engine.G2ConfigMgrJNI;\n",
    "import com.senzing.g2.engine.G2Config;\n",
    "import com.senzing.g2.engine.G2ConfigJNI;\n",
    "import com.senzing.g2.engine.Result;"
   ]
  },
  {
   "cell_type": "markdown",
   "metadata": {},
   "source": [
    "### Initialize Senzing configuration\n",
    "\n",
    "Using environment variables and default values, create `senzingConfigJson`.\n",
    "This value is used when instantiating Senzing objects."
   ]
  },
  {
   "cell_type": "code",
   "execution_count": null,
   "metadata": {},
   "outputs": [],
   "source": [
    "// Get variables used in constructing Senzing Engine configuration.\n",
    "\n",
    "String configPath = System.getenv(\"SENZING_ETC_DIR\");\n",
    "if (configPath == null) {\n",
    "    configPath = \"/etc/opt/senzing\";\n",
    "}\n",
    "\n",
    "String supportPath = System.getenv(\"SENZING_DATA_VERSION_DIR\");\n",
    "if (supportPath == null) {\n",
    "    supportPath = \"/opt/senzing/data\";\n",
    "}\n",
    "\n",
    "String g2Path = System.getenv(\"SENZING_G2_DIR\");\n",
    "if (g2Path == null) {\n",
    "    g2Path = \"/opt/senzing/g2\";\n",
    "}\n",
    "\n",
    "String resourcePath = g2Path + \"/resources\";\n",
    "\n",
    "String sqlConnection = System.getenv(\"SENZING_SQL_CONNECTION\");\n",
    "if (sqlConnection == null) {\n",
    "    sqlConnection = \"sqlite3://na:na@/var/opt/senzing/sqlite/G2C.db\";\n",
    "}\n",
    "\n",
    "// Construct the JSON string used for Senzing Engine configuration.\n",
    "\n",
    "String senzingConfigJson = \"{\"\n",
    "   + \"\\\"PIPELINE\\\": {\"\n",
    "   +     \"\\\"CONFIGPATH\\\": \\\"\" + configPath + \"\\\",\"\n",
    "   +     \"\\\"SUPPORTPATH\\\": \\\"\" + supportPath + \"\\\",\"\n",
    "   +     \"\\\"RESOURCEPATH\\\": \\\"\" + resourcePath + \"\\\"\"\n",
    "   + \"},\"\n",
    "   + \"\\\"SQL\\\": {\"\n",
    "   +     \"\\\"CONNECTION\\\": \\\"\" + sqlConnection + \"\\\"\"\n",
    "   + \"}}\";\n",
    "   \n",
    "System.out.println(senzingConfigJson);"
   ]
  },
  {
   "cell_type": "markdown",
   "metadata": {},
   "source": [
    "### Create G2Config instance"
   ]
  },
  {
   "cell_type": "markdown",
   "metadata": {},
   "source": [
    "Create an instance of `G2Config` for use with managing configuration."
   ]
  },
  {
   "cell_type": "code",
   "execution_count": null,
   "metadata": {},
   "outputs": [],
   "source": [
    "G2Config g2Config = new G2ConfigJNI();\n",
    "\n",
    "String moduleName = \"ExampleG2Config\";\n",
    "boolean verboseLogging = true;\n",
    "int returnCode = g2Config.initV2(moduleName, senzingConfigJson, verboseLogging);\n",
    "System.out.print(returnCode);"
   ]
  },
  {
   "cell_type": "markdown",
   "metadata": {},
   "source": [
    "## G2ConfigMgr\n",
    "\n",
    "The G2ConfigMgr API is used to add specific JSON configurations to the database,\n",
    "so that they may be shared across remote systems.\n",
    "Such configurations are added to the database, and a configuration ID is created for each of them.\n",
    "The system may then be configured with a specific configuratin ID that points to one of those configurations.\n",
    "That configuration ID will then be the shared global config."
   ]
  },
  {
   "cell_type": "markdown",
   "metadata": {},
   "source": [
    "### G2ConfigMgr Initialization\n",
    "\n",
    "To start using G2ConfigMgr, you must first create and initialize an instance of the config manager. This should be done once per process.\n",
    "\n",
    "Create a new instance of the config manager and assign it to a variable. Then, call the appropriate initialization method (such as initV2) to initialize the config manager.\n",
    "\n",
    "During the call, the initialization methods accept the following parameters:\n",
    "\n",
    "- **moduleName:** A short name given to this instance of the G2 engine (i.e. your G2Module object)\n",
    "- **senzingConfigJson:** A JSON document containing system parameters (see the section called \"Initialization Parameters\")\n",
    "- **verboseLogging:** A boolean which enables diagnostic logging - this will print a massive amount of information to stdout (default = False)\n",
    "Calling these functions will return \"0\" upon success - useful for error handling."
   ]
  },
  {
   "cell_type": "code",
   "execution_count": null,
   "metadata": {},
   "outputs": [],
   "source": [
    "G2ConfigMgr g2ConfigMgr = new G2ConfigMgrJNI();\n",
    "\n",
    "String moduleName = \"ExampleG2ConfigMgr\";\n",
    "boolean verboseLogging = true;\n",
    "int returnCode = g2ConfigMgr.initV2(moduleName, senzingConfigJson, verboseLogging);\n",
    "g2ConfigMgr.getLastException();\n",
    "System.out.print(returnCode);"
   ]
  },
  {
   "cell_type": "markdown",
   "metadata": {},
   "source": [
    "### Managing configurations"
   ]
  },
  {
   "cell_type": "markdown",
   "metadata": {},
   "source": [
    "Configuration JSON documents may be added to the datastore, so that they can be shared across remote systems.\n",
    "The `create()` method makes a new in-memory configuration from the `g2config.json` file."
   ]
  },
  {
   "cell_type": "code",
   "execution_count": null,
   "metadata": {},
   "outputs": [],
   "source": [
    "long configHandle = g2Config.create();"
   ]
  },
  {
   "cell_type": "markdown",
   "metadata": {},
   "source": [
    "Save the in-memory configuration to a string buffer."
   ]
  },
  {
   "cell_type": "code",
   "execution_count": null,
   "metadata": {},
   "outputs": [],
   "source": [
    "StringBuffer configStringBuffer = new StringBuffer();\n",
    "int returnCode = g2Config.save(configHandle, configStringBuffer);\n",
    "if (returnCode != 0)\n",
    "    g2Config.getLastException();"
   ]
  },
  {
   "cell_type": "markdown",
   "metadata": {},
   "source": [
    "#### addConfig\n",
    "\n",
    "Use `addConfig()` to add a configuration JSON document to the data repository.\n",
    "\n",
    "The `addConfig()` function accepts the following parameters as input:\n",
    "\n",
    "- **configStr:** The configuration JSON document.\n",
    "- **configComments:** A free-form string of comments describing the configuration document.\n",
    "- **configID:** The returned configID for the new config document registered in the data store.\n",
    "The function returns \"0\" upon success."
   ]
  },
  {
   "cell_type": "code",
   "execution_count": null,
   "metadata": {},
   "outputs": [],
   "source": [
    "String configStr = configStringBuffer.toString();\n",
    "String timeStamp = new java.text.SimpleDateFormat(\"yyyy.MM.dd.HH.mm.ss\").format(new java.util.Date());\n",
    "String configComments = \"senzing-G2ConfigMgr-reference.ipynb added at \" + timeStamp;\n",
    "Result<Long> configID = new Result<Long>();\n",
    "\n",
    "int returnCode = g2ConfigMgr.addConfig(configStr, configComments, configID);\n",
    "System.out.println(\"CONFIG ID: \" + configID.getValue());"
   ]
  },
  {
   "cell_type": "markdown",
   "metadata": {},
   "source": [
    "#### getConfigList\n",
    "\n",
    "Use `getConfigList()` to retrieve a list of the configuration JSON documents contained in the data repository.\n",
    "The `getConfigList()` function has no input arguments, and various arguments used to return response documents."
   ]
  },
  {
   "cell_type": "code",
   "execution_count": null,
   "metadata": {},
   "outputs": [],
   "source": [
    "StringBuffer response = new StringBuffer();\n",
    "\n",
    "int returnCode = g2ConfigMgr.getConfigList(response);\n",
    "System.out.println(response.toString());"
   ]
  },
  {
   "cell_type": "markdown",
   "metadata": {},
   "source": [
    "#### getConfig\n",
    "Use `getConfig()` to retrieve a specific configuration JSON document from the data repository.\n",
    "\n",
    "The `getConfig()` function accepts the following parameters as input:\n",
    "\n",
    "- **configID:** The configID for the config document that you wish to retrieve.\n",
    "They also have various arguments used to return response documents."
   ]
  },
  {
   "cell_type": "code",
   "execution_count": null,
   "metadata": {
    "scrolled": true
   },
   "outputs": [],
   "source": [
    "StringBuffer response = new StringBuffer();\n",
    "\n",
    "int returnCode = g2ConfigMgr.getConfig(configID.getValue(), response);\n",
    "System.out.println(response.toString());"
   ]
  },
  {
   "cell_type": "markdown",
   "metadata": {},
   "source": [
    "### Default configurations"
   ]
  },
  {
   "cell_type": "markdown",
   "metadata": {},
   "source": [
    "Multiple configuration JSON documents may be added to the datastore. Each of them may be referenced to start the engine and other API's with different configurations.\n",
    "\n",
    "In order to specify that one of the configuration documents should be the global shared config, the config ID for that configuration document must be set as the default config ID."
   ]
  },
  {
   "cell_type": "markdown",
   "metadata": {},
   "source": [
    "#### setDefaultConfigID\n",
    "\n",
    "Use `setDefaultConfigID()` to set the default configuration JSON document in the data repository.\n",
    "\n",
    "The `setDefaultConfigID()` function accepts the following parameters as input:\n",
    "\n",
    "- **configID:** The configuration ID for a configuration JSON document previously added to the database.\n",
    "\n",
    "The function returns \"0\" upon success."
   ]
  },
  {
   "cell_type": "code",
   "execution_count": null,
   "metadata": {},
   "outputs": [],
   "source": [
    "int returnCode = g2ConfigMgr.setDefaultConfigID(configID.getValue());\n",
    "System.out.print(returnCode);"
   ]
  },
  {
   "cell_type": "markdown",
   "metadata": {},
   "source": [
    "#### getDefaultConfigID\n",
    "\n",
    "Use `getDefaultConfigID()` to retrieve a specific configuration JSON document from the data repository.\n",
    "The `getDefaultConfigID()` function accepts the following parameters as input:\n",
    "\n",
    "- **configID:** Returns the configID for the current default configuration, or 0 if none is set."
   ]
  },
  {
   "cell_type": "code",
   "execution_count": null,
   "metadata": {},
   "outputs": [],
   "source": [
    "Result<Long> configID = new Result<Long>();\n",
    "int returnCode = g2ConfigMgr.getDefaultConfigID(configID);\n",
    "if(returnCode!=0)\n",
    "    g2Config.getLastException();\n",
    "\n",
    "System.out.println(configID.getValue());"
   ]
  }
 ],
 "metadata": {
  "finalized": {
   "timestamp": 1577464248295,
   "trusted": true
  },
  "kernelspec": {
   "display_name": "Java",
   "language": "java",
   "name": "java"
  },
  "language_info": {
   "codemirror_mode": "java",
   "file_extension": ".jshell",
   "mimetype": "text/x-java-source",
   "name": "Java",
   "pygments_lexer": "java",
   "version": "11.0.5+10-post-Ubuntu-0ubuntu1.118.04"
  }
 },
 "nbformat": 4,
 "nbformat_minor": 2
}
